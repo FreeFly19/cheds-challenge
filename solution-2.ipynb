{
 "cells": [
  {
   "cell_type": "code",
   "execution_count": null,
   "metadata": {},
   "outputs": [],
   "source": [
    "import tensorflow as tf\n",
    "import tensorflow.keras.layers as layers\n",
    "import tensorflow.keras.utils as utils\n",
    "import tensorflow.keras.models as models\n",
    "import tensorflow.keras.callbacks as callbacks\n",
    "import tensorflow.keras.preprocessing.image as image\n",
    "import tensorflow.keras.optimizers as optimizers\n",
    "import pandas as pd\n",
    "import numpy as np\n",
    "import cv2\n",
    "import matplotlib.pyplot as plt\n",
    "import math\n",
    "from imgaug import augmenters as iaa\n",
    "from sklearn.model_selection import train_test_split\n",
    "from PIL import Image"
   ]
  },
  {
   "cell_type": "code",
   "execution_count": null,
   "metadata": {},
   "outputs": [],
   "source": [
    "train_labels = pd.read_csv('train_labels.csv',dtype= {'Id': 'str', 'Category': 'str'})"
   ]
  },
  {
   "cell_type": "code",
   "execution_count": null,
   "metadata": {},
   "outputs": [],
   "source": [
    "IMAGE_SIZE = 224"
   ]
  },
  {
   "cell_type": "code",
   "execution_count": null,
   "metadata": {},
   "outputs": [],
   "source": [
    "X = []\n",
    "y = []\n",
    "for i in range(train_labels.shape[0]):\n",
    "    img = image.load_img('train/{}.jpg'.format(train_labels.iloc[i]['Id']),\n",
    "                                                target_size=(IMAGE_SIZE, IMAGE_SIZE))\n",
    "    X.append(image.img_to_array(img)/255.0)\n",
    "    y.append(train_labels.iloc[i]['Category'])"
   ]
  },
  {
   "cell_type": "code",
   "execution_count": null,
   "metadata": {},
   "outputs": [],
   "source": [
    "X = np.asarray(X)"
   ]
  },
  {
   "cell_type": "code",
   "execution_count": null,
   "metadata": {},
   "outputs": [],
   "source": [
    "from tensorflow.keras.utils import to_categorical\n",
    "classes = {'rose': 0, 'sunflower': 1, 'daisy': 2, 'tulip': 3, 'dandelion': 4}\n",
    "yi = [classes[s] for s in y]\n",
    "y_sparse = to_categorical(yi)"
   ]
  },
  {
   "cell_type": "code",
   "execution_count": null,
   "metadata": {},
   "outputs": [],
   "source": [
    "train_X, val_X, train_Y, val_Y = train_test_split(X, y_sparse, test_size=0.1, random_state=17, stratify=y_sparse)"
   ]
  },
  {
   "cell_type": "code",
   "execution_count": null,
   "metadata": {},
   "outputs": [],
   "source": [
    "base_model = tf.keras.applications.NASNetLarge(weights='imagenet', include_top=False)"
   ]
  },
  {
   "cell_type": "code",
   "execution_count": null,
   "metadata": {},
   "outputs": [],
   "source": [
    "x = base_model.output\n",
    "x = layers.SpatialDropout2D(0.2)(x)\n",
    "x = layers.GlobalAvgPool2D()(x)\n",
    "x = layers.Dense(4096, activation='relu')(x)\n",
    "x = layers.Dropout(0.2)(x)\n",
    "predictions = layers.Dense(len(classes), activation='softmax')(x)\n",
    "\n",
    "m = models.Model(inputs=base_model.input, outputs=predictions)"
   ]
  },
  {
   "cell_type": "code",
   "execution_count": null,
   "metadata": {},
   "outputs": [],
   "source": [
    "class AugmentedSequence(utils.Sequence):\n",
    "  def __init__(self, X, y, batch_size):\n",
    "    self.X = np.array(X)\n",
    "    self.y = np.array(y)\n",
    "    self.batch_size = batch_size\n",
    "    \n",
    "    #for shuffling\n",
    "    self.ids = np.random.permutation(range(len(X)))\n",
    "    \n",
    "    #for augmentation\n",
    "    self.seq = iaa.Sequential([\n",
    "        iaa.Fliplr(0.5),\n",
    "        iaa.Flipud(0.2),\n",
    "        iaa.Affine(scale=(0.8, 1.2), translate_percent=(-0.2, 0.2), rotate=(-45, 45), shear=(-16, 16))\n",
    "    ])\n",
    "    \n",
    "  def __len__(self):\n",
    "    return int(np.ceil(len(self.X)/float(self.batch_size)))\n",
    "  \n",
    "  def __getitem__(self, index):\n",
    "    start = index * self.batch_size\n",
    "    end = np.minimum((index + 1) * self.batch_size, len(self.X))\n",
    "    \n",
    "    ids = self.ids[start:end]\n",
    "    \n",
    "    batchX = self.X[ids]\n",
    "    batchy = self.y[ids]\n",
    "    \n",
    "    batchX = self.seq.augment_images(batchX)\n",
    "    \n",
    "    return np.array(batchX), np.array(batchy)\n",
    "  \n",
    "  def on_epoch_end(self):    \n",
    "    self.ids = np.random.permutation(range(len(self.X)))"
   ]
  },
  {
   "cell_type": "code",
   "execution_count": null,
   "metadata": {},
   "outputs": [],
   "source": [
    "base_model.trainable = False\n",
    "m.compile(optimizer=optimizers.Adam(1e-6),\n",
    "          loss='categorical_crossentropy',\n",
    "          metrics=['accuracy'])\n",
    "m.fit_generator(AugmentedSequence(train_X, train_Y, 8), \n",
    "      validation_data=(val_X, val_Y),\n",
    "      epochs = 20)"
   ]
  },
  {
   "cell_type": "code",
   "execution_count": null,
   "metadata": {},
   "outputs": [],
   "source": [
    "base_model.trainable = True\n",
    "m.compile(optimizer=optimizers.Adam(1e-6),\n",
    "          loss='categorical_crossentropy',\n",
    "          metrics=['accuracy'])\n",
    "m.fit_generator(AugmentedSequence(train_X, train_Y, 8), \n",
    "      validation_data=(val_X, val_Y),\n",
    "      epochs = 100,\n",
    "      callbacks=[\n",
    "          callbacks.ModelCheckpoint('weights-progress.h5', verbose=1, save_best_only=True, save_weights_only=True)\n",
    "      ])"
   ]
  },
  {
   "cell_type": "code",
   "execution_count": null,
   "metadata": {
    "scrolled": true
   },
   "outputs": [],
   "source": [
    "base_model.trainable = True\n",
    "m.compile(optimizer=optimizers.Adam(1e-8),\n",
    "          loss='categorical_crossentropy',\n",
    "          metrics=['accuracy'])\n",
    "m.fit_generator(AugmentedSequence(np.concatenate((train_X, val_X)), np.concatenate((train_Y, val_Y)), 8), \n",
    "      validation_data=(val_X, val_Y),\n",
    "      epochs = 20\n",
    ")"
   ]
  },
  {
   "cell_type": "code",
   "execution_count": null,
   "metadata": {},
   "outputs": [],
   "source": [
    "sub_num=5"
   ]
  },
  {
   "cell_type": "code",
   "execution_count": null,
   "metadata": {},
   "outputs": [],
   "source": [
    "m.save_weights(f'weights-submission-{sub_num}.h5')"
   ]
  },
  {
   "cell_type": "code",
   "execution_count": null,
   "metadata": {},
   "outputs": [],
   "source": [
    "import os\n",
    "test_X = []\n",
    "test_lebels = []\n",
    "for img_file in os.listdir('test'):\n",
    "    img = image.load_img('test/' + img_file, target_size=(IMAGE_SIZE, IMAGE_SIZE))\n",
    "    test_X.append(image.img_to_array(img)/255.0)\n",
    "    test_lebels.append(img_file.replace('.jpg', ''))\n",
    "test_X = np.asarray(test_X)"
   ]
  },
  {
   "cell_type": "code",
   "execution_count": null,
   "metadata": {},
   "outputs": [],
   "source": [
    "test_pred = m.predict(test_X)"
   ]
  },
  {
   "cell_type": "code",
   "execution_count": null,
   "metadata": {},
   "outputs": [],
   "source": [
    "class_indices = tf.argmax(test_pred, axis=1).eval(session=tf.Session())\n",
    "reverted_classes = {classes[c]:c for c in classes}\n",
    "pred_classes = [reverted_classes[c] for c in class_indices]"
   ]
  },
  {
   "cell_type": "code",
   "execution_count": null,
   "metadata": {},
   "outputs": [],
   "source": [
    "df = pd.DataFrame(data={'Category': pred_classes}, index=test_lebels)"
   ]
  },
  {
   "cell_type": "code",
   "execution_count": null,
   "metadata": {},
   "outputs": [],
   "source": [
    "df.index.name = 'Id'\n",
    "df.sort_index().to_csv(f'res-{sub_num}.csv')"
   ]
  },
  {
   "cell_type": "code",
   "execution_count": null,
   "metadata": {},
   "outputs": [],
   "source": []
  }
 ],
 "metadata": {
  "kernelspec": {
   "display_name": "Python 3",
   "language": "python",
   "name": "python3"
  },
  "language_info": {
   "codemirror_mode": {
    "name": "ipython",
    "version": 3
   },
   "file_extension": ".py",
   "mimetype": "text/x-python",
   "name": "python",
   "nbconvert_exporter": "python",
   "pygments_lexer": "ipython3",
   "version": "3.6.8"
  }
 },
 "nbformat": 4,
 "nbformat_minor": 2
}
